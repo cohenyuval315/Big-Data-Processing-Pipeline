{
 "cells": [
  {
   "cell_type": "code",
   "execution_count": 12,
   "metadata": {},
   "outputs": [],
   "source": [
    "import os\n",
    "from binance import Client\n",
    "from datetime import timedelta,datetime\n",
    "import pandas as pd\n",
    "from tqdm import tqdm"
   ]
  },
  {
   "cell_type": "code",
   "execution_count": 24,
   "metadata": {},
   "outputs": [],
   "source": [
    "API_KEY = os.environ.get('BINANCE_API_KEY')\n",
    "SECRET_KEY = os.environ.get('BINANCE_SECRET_KEY')\n",
    "BASE_DIR = \"./../../../data/_raw\""
   ]
  },
  {
   "cell_type": "code",
   "execution_count": 14,
   "metadata": {},
   "outputs": [],
   "source": [
    "client = Client(api_key=API_KEY,api_secret=SECRET_KEY)"
   ]
  },
  {
   "cell_type": "code",
   "execution_count": 15,
   "metadata": {},
   "outputs": [],
   "source": [
    "def count_intervals(start_time, end_time, ms):\n",
    "    interval_delta = timedelta(milliseconds=ms)\n",
    "    current_time = start_time\n",
    "    count = 0\n",
    "    while current_time <= end_time:\n",
    "        current_time += interval_delta\n",
    "        count += 1\n",
    "    return count\n"
   ]
  },
  {
   "cell_type": "code",
   "execution_count": 22,
   "metadata": {},
   "outputs": [],
   "source": [
    "def create_csv_file(base_dir,symbol,interval,file_idx,data,override=False): \n",
    "    file_name = f\"RAW_{symbol}_{interval}_{file_idx}.csv\"\n",
    "    file_path = os.path.join(base_dir,symbol,interval,file_name)\n",
    "    if not os.path.exists(file_path) or (override is True and os.path.exists(file_path)):\n",
    "        df = pd.DataFrame(data, columns=['timestamp', 'open', 'high', 'low', 'close', 'volume', 'close_time', 'quote_asset_volume', 'number_of_trades', 'taker_buy_base_asset_volume', 'taker_buy_quote_asset_volume', 'ignore'])\n",
    "        # df['timestamp'] = pd.to_datetime(df['timestamp'], unit='ms')\n",
    "        df.to_csv(file_path, index=False)"
   ]
  },
  {
   "cell_type": "code",
   "execution_count": 25,
   "metadata": {},
   "outputs": [
    {
     "name": "stdout",
     "output_type": "stream",
     "text": [
      "interval:  1m\n",
      "3444481\n"
     ]
    },
    {
     "name": "stderr",
     "output_type": "stream",
     "text": [
      " 90%|█████████ | 3107289/3444481 [40:53<04:26, 1266.36it/s]\n"
     ]
    },
    {
     "name": "stdout",
     "output_type": "stream",
     "text": [
      "interval:  3m\n",
      "1148161\n"
     ]
    },
    {
     "name": "stderr",
     "output_type": "stream",
     "text": [
      " 58%|█████▊    | 665601/1148161 [08:49<04:31, 1776.89it/s]"
     ]
    }
   ],
   "source": [
    "intervals = [\n",
    "    (\"1m\",1000 * 60),    \n",
    "    (\"3m\",1000 * 60 * 3),\n",
    "    (\"5m\",1000 * 60 * 5),\n",
    "    (\"15m\",1000 * 60 * 15),\n",
    "    (\"30m\",1000 * 60 * 30),\n",
    "    (\"1h\",1000 * 60 * 60 * 1),    \n",
    "    (\"2h\",1000 * 60 * 60 * 2),\n",
    "    (\"4h\",1000 * 60 * 60* 4),\n",
    "    (\"6h\",1000 * 60 * 60 * 6),\n",
    "    (\"8h\",1000 * 60 * 60 * 8),\n",
    "    (\"12h\",1000 * 60 * 60 * 12),\n",
    "    (\"1d\",1000 * 60 * 60 * 8),    \n",
    "    (\"3d\",1000 * 60 * 60 * 24 * 3),\n",
    "    (\"1w\",1000 * 60 * 60 * 24 * 3),\n",
    "]\n",
    "start_date = datetime(2017, 1, 1)\n",
    "end_date = datetime(2023, 7, 21)\n",
    "symbols = [\"BTCUSDT\"]\n",
    "override = True\n",
    "for symbol in symbols:\n",
    "    for interval in intervals:\n",
    "        _interval = interval[0]\n",
    "        print(\"interval: \", _interval)\n",
    "        approx = interval[1]\n",
    "        approx_size = count_intervals(start_date,end_date,approx)\n",
    "        print(approx_size)\n",
    "        data = client.get_historical_klines_generator(\n",
    "            symbol=symbol,\n",
    "            interval=_interval,\n",
    "            start_str=\"1 jan 2017\",\n",
    "            end_str=\"21 july 2023\",\n",
    "        )\n",
    "        os.makedirs(os.path.join(BASE_DIR), exist_ok=True)\n",
    "        os.makedirs(os.path.join(BASE_DIR,symbol), exist_ok=True)\n",
    "        os.makedirs(os.path.join(BASE_DIR,symbol,_interval), exist_ok=True) \n",
    "\n",
    "        max_batch_size = 256\n",
    "        num_rows_per_file = max_batch_size * 100\n",
    "        file_rows = []\n",
    "        file_num = 0\n",
    "        for idx,item in tqdm(enumerate(data),total=approx_size):\n",
    "            file_rows.append(item)\n",
    "            if idx != 0 and idx % num_rows_per_file == 0:\n",
    "                create_csv_file(base_dir=BASE_DIR,symbol=symbol,interval=_interval,file_idx=file_num,data=file_rows,override=override)\n",
    "                file_rows = []\n",
    "                file_num += 1\n",
    "\n",
    "        if len(file_rows) > 0:\n",
    "            create_csv_file(base_dir=BASE_DIR,symbol=symbol,interval=_interval,file_idx=file_num,data=file_rows,override=override)\n"
   ]
  }
 ],
 "metadata": {
  "kernelspec": {
   "display_name": "venv",
   "language": "python",
   "name": "python3"
  },
  "language_info": {
   "codemirror_mode": {
    "name": "ipython",
    "version": 3
   },
   "file_extension": ".py",
   "mimetype": "text/x-python",
   "name": "python",
   "nbconvert_exporter": "python",
   "pygments_lexer": "ipython3",
   "version": "3.11.3"
  },
  "orig_nbformat": 4
 },
 "nbformat": 4,
 "nbformat_minor": 2
}
