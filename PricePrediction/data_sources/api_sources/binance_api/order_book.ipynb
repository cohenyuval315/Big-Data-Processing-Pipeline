{
 "cells": [
  {
   "cell_type": "code",
   "execution_count": 4,
   "metadata": {},
   "outputs": [],
   "source": [
    "from dash import Dash,html,dcc,Input,Output,dash_table\n",
    "import dash_bootstrap_components as dbc\n",
    "import plotly.graph_objects as go\n",
    "from decimal import Decimal\n",
    "import pandas as pd\n",
    "import requests\n",
    "import math"
   ]
  },
  {
   "cell_type": "code",
   "execution_count": null,
   "metadata": {},
   "outputs": [],
   "source": [
    "app = Dash(external_stylesheets=[dbc.themes.CYBORG])\n",
    "\n",
    "app.layout = html.Div(children=[\n",
    "    html.Div(children=[\n",
    "    dash_table.DataTable(id=\"bid_table\"),    \n",
    "    ], style={\n",
    "    \"width\":\"300px\"\n",
    "    }),\n",
    "dcc.Interval(id=\"timer\",interval=3000),\n",
    "])"
   ]
  },
  {
   "cell_type": "code",
   "execution_count": null,
   "metadata": {},
   "outputs": [],
   "source": [
    "@app.callback(\n",
    "    Output(\"bid_table\",\"data\"),\n",
    "    Input(\"timer\",\"n_intervals\"),\n",
    "    )\n",
    "\n",
    "def update_order_book(n_intervals):\n",
    "    url = \"https://api.binance.com/api/v3/depth\"\n",
    "    levels_to_show = 10\n",
    "    params = {\n",
    "        \"symbol\":\"BTCUSDT\",\n",
    "        \"limit\":100\n",
    "    }\n",
    "    data = requests.get(url=url,params=params).json()\n",
    "    bid_df = pd.DataFrame(data['bids'],columns=[\"price\",\"quantity\"],dtype=float)\n",
    "    bid_df = bid_df.iloc[:levels_to_show]\n",
    "    return bid_df.to_dict(\"records\")\n",
    "\n",
    "def aggregate_levels(levels_df,side):\n",
    "    # 21:25\n",
    "    # https://www.youtube.com/watch?v=hgOXY-r3xJM&t=211s&ab_channel=ChadThackray\n",
    "    pass"
   ]
  },
  {
   "cell_type": "code",
   "execution_count": null,
   "metadata": {},
   "outputs": [],
   "source": [
    "app.run_server(debug=True)"
   ]
  }
 ],
 "metadata": {
  "kernelspec": {
   "display_name": "venv",
   "language": "python",
   "name": "python3"
  },
  "language_info": {
   "codemirror_mode": {
    "name": "ipython",
    "version": 3
   },
   "file_extension": ".py",
   "mimetype": "text/x-python",
   "name": "python",
   "nbconvert_exporter": "python",
   "pygments_lexer": "ipython3",
   "version": "3.11.3"
  },
  "orig_nbformat": 4
 },
 "nbformat": 4,
 "nbformat_minor": 2
}
