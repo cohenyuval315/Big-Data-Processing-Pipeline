{
 "cells": [
  {
   "cell_type": "code",
   "execution_count": null,
   "metadata": {},
   "outputs": [],
   "source": [
    "import os\n",
    "from binance import ThreadedWebsocketManager,AsyncClient\n",
    "from binance.enums import *\n",
    "from binance.exceptions import BinanceAPIException,BinanceWebsocketUnableToConnect,BinanceRequestException,UnknownDateFormat\n",
    "import json\n",
    "from kafka import MyProducer\n"
   ]
  },
  {
   "cell_type": "code",
   "execution_count": null,
   "metadata": {},
   "outputs": [],
   "source": [
    "def normalize_kline(msg):\n",
    "    m = msg.copy()\n",
    "    normal_msg = m['k'].copy()\n",
    "    del m['k']\n",
    "    del m['s']\n",
    "    normal_msg['E'] = m['E']\n",
    "    normal_msg['e'] = m['e'] \n",
    "    return normal_msg"
   ]
  },
  {
   "cell_type": "code",
   "execution_count": null,
   "metadata": {},
   "outputs": [],
   "source": [
    "\n",
    "def normalize_kline_json(json):\n",
    "    data = {\n",
    "      \"eventType\": str(json['e']),\n",
    "      \"eventTime\": int(json[\"E\"]),\n",
    "      \"symbol\": str(json[\"s\"]),\n",
    "      \"klineStartTime\": int(json[\"t\"]),\n",
    "      \"klineCloseTime\": int(json[\"T\"]),\n",
    "      \"interval\": str(json[\"i\"]), \n",
    "      \"firstTradeID\": int(json[\"f\"]), \n",
    "      \"lastTradeID\": int(json[\"L\"]), \n",
    "      \"openPrice\": float(json[\"o\"]), \n",
    "      \"closePrice\": float(json[\"c\"]), \n",
    "      \"highPrice\": float(json[\"h\"]), \n",
    "      \"lowPrice\": float(json[\"l\"]), \n",
    "      \"baseAssetVolume\": float(json[\"v\"]), \n",
    "      \"numOfTrades\": int(json[\"n\"]), \n",
    "      \"klineClosed\": bool(json[\"x\"]),\n",
    "      \"quoteAssetVolume\": float(json[\"q\"]), \n",
    "      \"takerBuyBaseAssetVolume\": float(json[\"V\"]), \n",
    "      \"takerBuyQuoteAssetVolume\": float(json[\"Q\"]), \n",
    "      \"ignore\": str(json[\"B\"]),\n",
    "    }\n",
    "    return data\n",
    "\n",
    "def main():\n",
    "    API_KEY = os.environ.get('BINANCE_API_KEY')\n",
    "    SECRET_KEY = os.environ.get('BINANCE_SECRET_KEY')\n",
    "    BOOTSRAP_SERVERS = \"localhost:9092\"\n",
    "    streams = ['btcusdt@kline_1m', 'btcusdt@kline_1s']\n",
    "    producer = MyProducer(BOOTSRAP_SERVERS)\n",
    "\n",
    "    twm = ThreadedWebsocketManager(API_KEY,SECRET_KEY)\n",
    "    def handle_socket_message(msg):\n",
    "        stream_name = msg['stream']\n",
    "        data = msg['data']\n",
    "        kline_data = data['k']\n",
    "        interval = kline_data['i']\n",
    "        symbol = kline_data['s']\n",
    "        symbol = symbol.lower()\n",
    "        topic = f\"{symbol}_{interval}\"\n",
    "        ready_msg = normalize_kline_json(normalize_kline(data))\n",
    "        producer.produce(json.dumps(ready_msg),key=stream_name,topic=topic)\n",
    "    try:\n",
    "        twm.start()\n",
    "        twm.start_multiplex_socket(callback=handle_socket_message, streams=streams)\n",
    "        twm.join()\n",
    "    except Exception as e:\n",
    "        print(e)\n",
    "        twm.stop()\n",
    "\n",
    "\n"
   ]
  }
 ],
 "metadata": {
  "language_info": {
   "name": "python"
  },
  "orig_nbformat": 4
 },
 "nbformat": 4,
 "nbformat_minor": 2
}
